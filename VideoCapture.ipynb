{
 "cells": [
  {
   "cell_type": "markdown",
   "metadata": {},
   "source": [
    "# IMPORTS"
   ]
  },
  {
   "cell_type": "code",
   "execution_count": null,
   "metadata": {},
   "outputs": [],
   "source": [
    "import numpy as np\n",
    "import cv2\n",
    "from new.SkinDetection import *\n",
    "from new.HandDetection import *\n",
    "from new.Utilities import *\n",
    "\n",
    "%load_ext autoreload\n",
    "%autoreload 2\n",
    "%matplotlib inline"
   ]
  },
  {
   "cell_type": "markdown",
   "metadata": {},
   "source": [
    "# VideoCapture"
   ]
  },
  {
   "cell_type": "code",
   "execution_count": null,
   "metadata": {},
   "outputs": [],
   "source": [
    "#To capture from primary webcam\n",
    "cap = cv2.VideoCapture(0)\n",
    "# count = 0\n",
    "\n",
    "while True:\n",
    "    _,frame = cap.read()\n",
    "    frame_wof=np.copy(frame)\n",
    "    # gray = cv2.cvtColor(frame,cv2.COLOR_BGR2GRAY)\n",
    "    #Removing the face\n",
    "    # frame_wof = blackout(frame_wof,gray)\n",
    "    global_mask = SkinDetection_VotingSystem(frame)\n",
    "    hand = HandDetection(global_mask)\n",
    "    #Showing the mask\n",
    "    cv2.imshow(\"Video\",frame)\n",
    "    cv2.imshow(\"Mask\",hand)\n",
    "    # cv2.imwrite(\"alef/frame%d.jpg\" % count, frame)\n",
    "    # count += 1\n",
    "    #cv2.imshow(\"Erosion\",np.uint8(closing))\n",
    "\n",
    "    if cv2.waitKey(1)& 0xFF == ord('q'):\n",
    "        break\n",
    "    \n",
    "    # time.sleep(5)\n",
    "\n",
    "    # if count == 100:\n",
    "    #     break\n",
    "\n",
    "#Releasing the camera\n",
    "cap.release()\n",
    "cv2.destroyAllWindows()"
   ]
  }
 ],
 "metadata": {
  "language_info": {
   "name": "python"
  },
  "orig_nbformat": 4
 },
 "nbformat": 4,
 "nbformat_minor": 2
}
