{
 "cells": [
  {
   "cell_type": "markdown",
   "metadata": {},
   "source": [
    "# IMPORTS"
   ]
  },
  {
   "cell_type": "code",
   "execution_count": 1,
   "metadata": {},
   "outputs": [],
   "source": [
    "from skimage import io\n",
    "import numpy as np\n",
    "from Utilities import show_images\n",
    "from skimage.color import rgb2ycbcr\n",
    "import cv2\n",
    "from sklearn.cluster import KMeans\n",
    "\n",
    "%load_ext autoreload\n",
    "%autoreload 2\n",
    "%matplotlib inline\n"
   ]
  },
  {
   "cell_type": "markdown",
   "metadata": {},
   "source": [
    "# Algorithm-1\n",
    "\n",
    "Kmeans"
   ]
  },
  {
   "cell_type": "code",
   "execution_count": null,
   "metadata": {},
   "outputs": [],
   "source": [
    "def gammaCorrection(src, gamma):\n",
    "    invGamma = 1 / gamma\n",
    "    table = [((i / 255) ** invGamma) * 255 for i in range(256)]\n",
    "    table = np.array(table, np.uint8)\n",
    "    return cv2.LUT(src, table)\n",
    "\n",
    "def blackout(frame,gray):\n",
    "    '''\n",
    "    Removes the face from the passed frame using haar cascades\n",
    "    '''\n",
    "    face_cascade = cv2.CascadeClassifier(cv2.data.haarcascades + 'haarcascade_frontalface_default.xml')\n",
    "    faces = face_cascade.detectMultiScale(gray,1.2,1)\n",
    "    for (x,y,w,h) in faces:\n",
    "        #Blacking out the face\n",
    "        new_face = np.copy(frame[y+int(h*0.2):y+h-int(h*0.2),x+int(w*0.2):x+w-int(w*0.2)])\n",
    "        frame[y-50:y+h+50,x:x+w] = 0\n",
    "    return frame, new_face\n",
    "    \n",
    "def k_means(img):\n",
    "\n",
    "    kmeans = KMeans(n_clusters=2)\n",
    "    x, y, z = img.shape\n",
    "    img2d = img.reshape(x*y, z)\n",
    "\n",
    "    kmeans.fit(img2d)\n",
    "    labels = kmeans.labels_\n",
    "    centers = kmeans.cluster_centers_\n",
    "    max = np.argmax(np.bincount(labels))\n",
    "\n",
    "    # img2d_temp=np.copy(img2d)\n",
    "    # for i in range (img2d_temp.shape[0]):\n",
    "    #     img2d_temp[i]=centers[labels[i]]\n",
    "    # image_final=img2d_temp.reshape(x,y,z)\n",
    "    # return centers,labels,image_final,max\n",
    "    return centers,labels,max"
   ]
  },
  {
   "cell_type": "code",
   "execution_count": null,
   "metadata": {},
   "outputs": [],
   "source": [
    "def SkinDetection_KMeans(image):\n",
    "\n",
    "    gammaImg = gammaCorrection(image,1)\n",
    "    gray_img = cv2.cvtColor(gammaImg,cv2.COLOR_BGR2GRAY)\n",
    "    _, face= blackout(gammaImg,gray_img)\n",
    "\n",
    "    centers,_,_=k_means(face)\n",
    "\n",
    "    if ((centers[1][0]-centers[0][0])>0):\n",
    "        skin=cv2.inRange(image,centers[0],centers[1])\n",
    "    else:\n",
    "        skin=cv2.inRange(image,centers[1],centers[0])\n",
    "\n",
    "    return skin"
   ]
  },
  {
   "cell_type": "markdown",
   "metadata": {},
   "source": [
    "# Algorithm-2\n",
    "\n",
    "Multi-Scale Skin Detection"
   ]
  },
  {
   "cell_type": "code",
   "execution_count": 19,
   "metadata": {},
   "outputs": [],
   "source": [
    "def SkinDetection_Multiscale(image):\n",
    "\n",
    "    red = np.copy(image[:,:,0]).astype(np.int16)\n",
    "    green = np.copy(image[:,:,1]).astype(np.int16)\n",
    "    blue = np.copy(image[:,:,2]).astype(np.int16)\n",
    "\n",
    "    ############### NORMALIZED RGB\n",
    "    red_dash = red/(red+green+blue)\n",
    "    green_dash = green/(red+green+blue)\n",
    "    blue_dash = blue/(red+green+blue)\n",
    "\n",
    "    ############### HSV\n",
    "    value = np.maximum.reduce([red_dash,green_dash,blue_dash])\n",
    "    minimum = np.minimum.reduce([red_dash,green_dash,blue_dash])\n",
    "\n",
    "    saturation = np.zeros(red_dash.shape)\n",
    "    saturation[value!=0] = (value[value!=0] - minimum[value!=0] ) / value[value!=0]\n",
    "\n",
    "    hue = np.zeros(red_dash.shape)\n",
    "\n",
    "    hue[value == red] = ((60*(green_dash-blue_dash)) / (value-minimum))[value == red]\n",
    "    hue[value == green] = (2+ (60*(blue_dash-red_dash)/(value-minimum)))[value == green]\n",
    "    hue[value == blue] = (4+ (60*(red_dash-green_dash)/(value-minimum)))[value == blue]\n",
    "\n",
    "    hue[hue<0] = hue[hue<0] + 360\n",
    "    ############### YCBCR\n",
    "    ycbcr_image = rgb2ycbcr(image)\n",
    "    y = ycbcr_image[:,:,0]\n",
    "    cb = ycbcr_image[:,:,1]\n",
    "    cr = ycbcr_image[:,:,2]\n",
    "\n",
    "    new_img = np.zeros(red_dash.shape).astype(np.uint8)\n",
    "    # for row in range(0, image.shape[0]):\n",
    "    #     for column in range(0, image.shape[1]):\n",
    "\n",
    "    #         if(red_dash[row][column]/green_dash[row][column] > 1.185 ):\n",
    "\n",
    "    #             if(hue[row][column] >=0 and hue[row][column] <= 25) or (hue[row][column] >= 335 and hue[row][column] <= 360):\n",
    "\n",
    "    #                 if(saturation[row][column] >= 0.2 and saturation[row][column] <= 0.6):\n",
    "\n",
    "    #                     if(cb[row][column] > 77 and cb[row][column] < 127):\n",
    "\n",
    "    #                         if(cr[row][column] > 133 and cb[row][column] < 173):\n",
    "\n",
    "    #                             new_img[row][column] = 255     \n",
    "    # show_images([new_img])\n",
    "    #check = red_dash/green_dash > 1.185 and cb > 77 and cb < 127 and cr > 133 and cb < 173 and saturation >= 0.2 and saturation<= 0.6 and (hue >=0 and hue <= 25 or hue >= 335 and hue <= 360)\n",
    "    check = np.bitwise_and(red_dash/green_dash > 1.185, np.bitwise_and(cb > 77, np.bitwise_and(cb < 127,np.bitwise_and(cr > 133, np.bitwise_and(cb < 173 , np.bitwise_and(saturation >= 0.2 , np.bitwise_and(saturation<= 0.6 , np.bitwise_and(hue >=0 , np.bitwise_and( hue <= 25 , np.bitwise_or(hue >= 335 , hue <= 360))))))))))\n",
    "    new_img[check] = 255   \n",
    "\n",
    "    return new_img"
   ]
  },
  {
   "cell_type": "code",
   "execution_count": 20,
   "metadata": {},
   "outputs": [
    {
     "name": "stderr",
     "output_type": "stream",
     "text": [
      "E:\\Anaconda3\\envs\\pattern\\lib\\site-packages\\ipykernel_launcher.py:8: RuntimeWarning: invalid value encountered in true_divide\n",
      "  \n",
      "E:\\Anaconda3\\envs\\pattern\\lib\\site-packages\\ipykernel_launcher.py:9: RuntimeWarning: invalid value encountered in true_divide\n",
      "  if __name__ == '__main__':\n",
      "E:\\Anaconda3\\envs\\pattern\\lib\\site-packages\\ipykernel_launcher.py:10: RuntimeWarning: invalid value encountered in true_divide\n",
      "  # Remove the CWD from sys.path while we load stuff.\n",
      "E:\\Anaconda3\\envs\\pattern\\lib\\site-packages\\ipykernel_launcher.py:21: RuntimeWarning: invalid value encountered in true_divide\n",
      "E:\\Anaconda3\\envs\\pattern\\lib\\site-packages\\ipykernel_launcher.py:22: RuntimeWarning: invalid value encountered in true_divide\n",
      "E:\\Anaconda3\\envs\\pattern\\lib\\site-packages\\ipykernel_launcher.py:23: RuntimeWarning: invalid value encountered in true_divide\n",
      "E:\\Anaconda3\\envs\\pattern\\lib\\site-packages\\ipykernel_launcher.py:49: RuntimeWarning: divide by zero encountered in true_divide\n",
      "E:\\Anaconda3\\envs\\pattern\\lib\\site-packages\\ipykernel_launcher.py:49: RuntimeWarning: invalid value encountered in true_divide\n"
     ]
    },
    {
     "data": {
      "image/png": "[encoded data removed]",
      "text/plain": [
       "<Figure size 432x288 with 1 Axes>"
      ]
     },
     "metadata": {
      "needs_background": "light"
     },
     "output_type": "display_data"
    }
   ],
   "source": [
    "image = io.imread('100100.jpg')\n",
    "# show_images([image])\n",
    "skin = SkinDetection_Multiscale(image)\n",
    "show_images([skin])"
   ]
  },
  {
   "cell_type": "markdown",
   "metadata": {},
   "source": [
    "# Algorithm3\n",
    "\n",
    "InRange"
   ]
  },
  {
   "cell_type": "code",
   "execution_count": null,
   "metadata": {},
   "outputs": [],
   "source": [
    "def SkinDetection_InRange(img):\n",
    "    \n",
    "    img_HSV = cv2.cvtColor(img, cv2.COLOR_BGR2HSV)\n",
    "    HSV_mask = cv2.inRange(img_HSV, (0, 15, 0), (17,170,255)) \n",
    "    HSV_mask = cv2.morphologyEx(HSV_mask, cv2.MORPH_OPEN, np.ones((3,3), np.uint8))\n",
    "\n",
    "    img_YCrCb = cv2.cvtColor(img, cv2.COLOR_BGR2YCrCb)\n",
    "    YCrCb_mask = cv2.inRange(img_YCrCb, (0, 135, 85), (255,180,135)) \n",
    "    YCrCb_mask = cv2.morphologyEx(YCrCb_mask, cv2.MORPH_OPEN, np.ones((3,3), np.uint8))\n",
    "\n",
    "    global_mask=cv2.bitwise_and(YCrCb_mask,HSV_mask)\n",
    "    global_mask=cv2.medianBlur(global_mask,3)\n",
    "    global_mask = cv2.morphologyEx(global_mask, cv2.MORPH_OPEN, np.ones((4,4), np.uint8))\n",
    "\n",
    "    return global_mask"
   ]
  },
  {
   "cell_type": "markdown",
   "metadata": {},
   "source": [
    "# Voting System\n",
    "\n",
    "Anding Output of the three algorthims together"
   ]
  },
  {
   "cell_type": "code",
   "execution_count": null,
   "metadata": {},
   "outputs": [],
   "source": [
    "filename = \"100100.jpg\"\n",
    "image = io.imread(filename)\n",
    "cv2_image = cv2.imread(filename)\n",
    "\n",
    "one = SkinDetection_InRange(cv2_image)\n",
    "two = SkinDetection_Multiscale(image)\n",
    "three = SkinDetection_KMeans(image)\n",
    "\n",
    "final_1 = cv2.bitwise_and(one,two)\n",
    "# final = cv2.bitwise_and(final_1,three)\n",
    "show_images([one, two, three, final_1])\n",
    "\n",
    "# _, hand = faceDetectionAndRemoval(final_1)\n",
    "show_images([final_1])"
   ]
  }
 ],
 "metadata": {
  "interpreter": {
   "hash": "a3dc724101d1844b82d7408b05ff3e3c012f86a112e03100039ce4c20641155e"
  },
  "kernelspec": {
   "display_name": "Python 3.7.9 64-bit ('pattern': conda)",
   "language": "python",
   "name": "python3"
  },
  "language_info": {
   "codemirror_mode": {
    "name": "ipython",
    "version": 3
   },
   "file_extension": ".py",
   "mimetype": "text/x-python",
   "name": "python",
   "nbconvert_exporter": "python",
   "pygments_lexer": "ipython3",
   "version": "3.7.9"
  },
  "orig_nbformat": 4
 },
 "nbformat": 4,
 "nbformat_minor": 2
}
